{
 "cells": [
  {
   "cell_type": "markdown",
   "metadata": {},
   "source": [
    "Oficial superior: \"¿Cadete?\"\n",
    "\n",
    "Usted: \"¿Sí, señora?\"\n",
    "\n",
    "Oficial superior: \"¿Puedes construir un programa que me muestre la fecha? La computadora del barco no venía con mucho en términos de programas de utilidad, por lo que necesitamos crear los que necesitamos. ¿Puedo confiar en ti con esto?\"\n",
    "\n",
    "Usted: \"Considéralo hecho\".\n",
    "\n",
    "Oficial superior: \"Excelente\"."
   ]
  },
  {
   "cell_type": "code",
   "execution_count": 1,
   "metadata": {},
   "outputs": [
    {
     "name": "stdout",
     "output_type": "stream",
     "text": [
      "Today´s date is\n",
      "11 parsec, is0lightyears\n",
      "Today´s dates is: 2022-02-08\n",
      "11parsec, is  35.877159999999996\n"
     ]
    }
   ],
   "source": [
    "from datetime import date\n",
    "print ('Today´s date is')\n",
    "\n",
    "\n",
    "parsec = 11\n",
    "lightyears = 0\n",
    "print(str(parsec) + ' parsec, is' + str(lightyears) + 'lightyears')\n",
    "\n",
    "\n",
    "from datetime import date\n",
    "print('Today´s dates is: ' + str(date.today()))\n",
    "\n",
    "parsec = 11\n",
    "lightyears = 3.26156 * parsec\n",
    "\n",
    "print(str(parsec) + 'parsec, is  ' + str(lightyears))"
   ]
  }
 ],
 "metadata": {
  "interpreter": {
   "hash": "95d701800b0c9292aa36c5c4448dffa94d93b02a0978590ffacbcb1f0b148b4d"
  },
  "kernelspec": {
   "display_name": "Python 3.10.2 64-bit",
   "language": "python",
   "name": "python3"
  },
  "language_info": {
   "codemirror_mode": {
    "name": "ipython",
    "version": 3
   },
   "file_extension": ".py",
   "mimetype": "text/x-python",
   "name": "python",
   "nbconvert_exporter": "python",
   "pygments_lexer": "ipython3",
   "version": "3.10.2"
  },
  "orig_nbformat": 4
 },
 "nbformat": 4,
 "nbformat_minor": 2
}
