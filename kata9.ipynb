{
 "cells": [
  {
   "cell_type": "markdown",
   "metadata": {},
   "source": [
    "EJERCICIO 1"
   ]
  },
  {
   "cell_type": "code",
   "execution_count": 2,
   "metadata": {},
   "outputs": [
    {
     "name": "stdout",
     "output_type": "stream",
     "text": [
      "Fuel Report:\n",
      "Total Average:83.33333333333333%\n",
      "oil_tank: 67%\n",
      "chemical_tank: 93%\n",
      "hydrogen_tank: 90%\n",
      "\n",
      "Fuel Report:\n",
      "    Total Average:89.33333333333333%\n",
      "    oil_tank:67%\n",
      "    chemical_tank:93%\n",
      "    hydrogen_tank:108%\n",
      "    \n"
     ]
    }
   ],
   "source": [
    "# Función para leer 3 tanques de combustible y muestre el promedio\n",
    "def generate_report(oil_tank, chemical_tank, hydrogen_tank):\n",
    "    total_average = (oil_tank + chemical_tank + hydrogen_tank) / 3\n",
    "    return f\"\"\"Fuel Report:\n",
    "Total Average:{total_average}%\n",
    "oil_tank: {oil_tank}%\n",
    "chemical_tank: {chemical_tank}%\n",
    "hydrogen_tank: {hydrogen_tank}%\n",
    "\"\"\"\n",
    "\n",
    "# Llamamos a la funciónque genera el reporte(función(oil_tank,chemical_tank,hydrogen_tank))\n",
    "print(generate_report(67,93,90))\n",
    "\n",
    "# Función promedio\n",
    "def average(values):\n",
    "    total = sum(values)\n",
    "    number_of_items = len(values)\n",
    "    return total / number_of_items\n",
    "\n",
    "# Test the averaging function with a list of integers:\n",
    "average([80,85,81])\n",
    "\n",
    "# Update the function\n",
    "def generate_report(oil_tank, chemical_tank, hydrogen_tank):\n",
    "    return f\"\"\"Fuel Report:\n",
    "    Total Average:{average([oil_tank,chemical_tank,hydrogen_tank])}%\n",
    "    oil_tank:{oil_tank}%\n",
    "    chemical_tank:{chemical_tank}%\n",
    "    hydrogen_tank:{hydrogen_tank}%\n",
    "    \"\"\"\n",
    "# Call the updated function again with different values\n",
    "print(generate_report(67,93,108))"
   ]
  },
  {
   "cell_type": "markdown",
   "metadata": {},
   "source": [
    "EJERCICIO 2"
   ]
  },
  {
   "cell_type": "code",
   "execution_count": 7,
   "metadata": {},
   "outputs": [
    {
     "name": "stdout",
     "output_type": "stream",
     "text": [
      "\n",
      "    Mission to Moon\n",
      "    Total travel time: 65 minutes\n",
      "    Total fuel left: (200000, 300000) gallons\n",
      "    \n",
      "\n",
      "    Mission to Moon\n",
      "    Total travel time: 76 minutes\n",
      "    Total fuel left: 500000\n",
      "    \n",
      "\n",
      "    Mission to Moon, 8, 11, 55, oil = 300000, chemical = 200000\n",
      "    Total travel time: 0 minutes\n",
      "    Total fuel left: 0\n",
      "    \n"
     ]
    }
   ],
   "source": [
    "# Función con un informe preciso de la misión. Considera hora de prelanzamiento, tiempo de vuelo, destino, tanque externo y tanque interno\n",
    "def mission_report(pre_launch_time, flight_time, destination, chemical_tank, oil_tank):\n",
    "    return f\"\"\"\n",
    "    Mission to {destination}\n",
    "    Total travel time: {pre_launch_time + flight_time} minutes\n",
    "    Total fuel left: {chemical_tank, oil_tank} gallons\n",
    "    \"\"\"\n",
    "print(mission_report(14,51,\"Moon\", 200000, 300000))\n",
    "\n",
    "# Type your function of report considerando lo anterior\n",
    "def mission_report(destination, *minutes, **fuel_reservoirs):\n",
    "    return f\"\"\"\n",
    "    Mission to {destination}\n",
    "    Total travel time: {sum(minutes)} minutes\n",
    "    Total fuel left: {sum(fuel_reservoirs.values())}\n",
    "    \"\"\"\n",
    "print(mission_report(\"Moon\",10,15,51, oil = 300000, chemical = 200000))\n",
    "\n",
    "# Type your new function\n",
    "def mission_report(destination, *minutes, **fuel_reservoirs):\n",
    "    main_report = f\"\"\"\n",
    "    Mission to {destination}\n",
    "    Total travel time: {sum(minutes)} minutes\n",
    "    Total fuel left: {sum(fuel_reservoirs.values())}\n",
    "    \"\"\"\n",
    "    for tank_name, gallons in fuel_reservoirs.items():\n",
    "        main_report += f\"{tank_name} tank --> {gallons} gallons left\\n\"\n",
    "    return main_report\n",
    "print(mission_report(\"Moon, 8, 11, 55, oil = 300000, chemical = 200000\"))"
   ]
  }
 ],
 "metadata": {
  "interpreter": {
   "hash": "95d701800b0c9292aa36c5c4448dffa94d93b02a0978590ffacbcb1f0b148b4d"
  },
  "kernelspec": {
   "display_name": "Python 3.10.2 64-bit",
   "language": "python",
   "name": "python3"
  },
  "language_info": {
   "codemirror_mode": {
    "name": "ipython",
    "version": 3
   },
   "file_extension": ".py",
   "mimetype": "text/x-python",
   "name": "python",
   "nbconvert_exporter": "python",
   "pygments_lexer": "ipython3",
   "version": "3.10.2"
  },
  "orig_nbformat": 4
 },
 "nbformat": 4,
 "nbformat_minor": 2
}
