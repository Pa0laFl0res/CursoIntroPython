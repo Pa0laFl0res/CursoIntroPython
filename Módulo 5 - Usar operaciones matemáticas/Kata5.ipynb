{
 "cells": [
  {
   "cell_type": "markdown",
   "metadata": {},
   "source": [
    "UTILIZAR OPERADORES ARITMÉTICOS"
   ]
  },
  {
   "cell_type": "markdown",
   "metadata": {},
   "source": [
    "Ejercicio 1"
   ]
  },
  {
   "cell_type": "code",
   "execution_count": 20,
   "metadata": {},
   "outputs": [
    {
     "name": "stdout",
     "output_type": "stream",
     "text": [
      "628949330\n",
      "390577533.93\n"
     ]
    }
   ],
   "source": [
    "# Crear variables para almacenar las dos distancias\n",
    "# Calcular la distancia entre planetas\n",
    "\n",
    "Earth = 149597870\n",
    "Jupyter = 778547200\n",
    "\n",
    "Distance = Jupyter - Earth\n",
    "print(Distance)\n",
    "\n",
    "distance_km = Jupyter - Earth \n",
    "Distance_mi = distance_km * .621\n",
    "print(Distance_mi)\n",
    "\n"
   ]
  },
  {
   "cell_type": "markdown",
   "metadata": {},
   "source": [
    "CONVIERTE CADENAS EN NÚMEROS Y USA VALORES ABSOLUTOS\n"
   ]
  },
  {
   "cell_type": "markdown",
   "metadata": {},
   "source": [
    "Ejercicio 2"
   ]
  },
  {
   "cell_type": "code",
   "execution_count": 1,
   "metadata": {},
   "outputs": [
    {
     "name": "stdout",
     "output_type": "stream",
     "text": [
      "4386900000\n",
      "2724264900.0\n"
     ]
    }
   ],
   "source": [
    "# Almacenar las entradas del usuario\n",
    "Neptuno = input('Introduzca la distancia del sol para el primer planeta en KM')\n",
    "Venus = input('Introduzca la distancia del sol para el primer planeta en KM')\n",
    "\n",
    "# Convierte las cadenas de ambos planetas a números enteros\n",
    "Neptuno = int('4495100000')\n",
    "Venus = int('108200000')\n",
    "\n",
    "# Realizar el cálculo y determinar el valor absoluto\n",
    "Distance_km = Neptuno - Venus\n",
    "print(Distance_km)\n",
    "\n",
    "# Convertir de KM a Millas\n",
    "Distance_mi = Distance_km * 0.621\n",
    "print(abs(Distance_mi))\n",
    "\n",
    "\n"
   ]
  }
 ],
 "metadata": {
  "interpreter": {
   "hash": "95d701800b0c9292aa36c5c4448dffa94d93b02a0978590ffacbcb1f0b148b4d"
  },
  "kernelspec": {
   "display_name": "Python 3.10.2 64-bit",
   "language": "python",
   "name": "python3"
  },
  "language_info": {
   "codemirror_mode": {
    "name": "ipython",
    "version": 3
   },
   "file_extension": ".py",
   "mimetype": "text/x-python",
   "name": "python",
   "nbconvert_exporter": "python",
   "pygments_lexer": "ipython3",
   "version": "3.10.2"
  },
  "orig_nbformat": 4
 },
 "nbformat": 4,
 "nbformat_minor": 2
}
