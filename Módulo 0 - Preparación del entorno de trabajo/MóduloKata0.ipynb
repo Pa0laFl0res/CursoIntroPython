#Oficial superior> "¿Cadete?"
#Usted > "¿Sí, señora?"
#Oficial superior> "¿Puedes construir un programa que me muestre la fecha? La computadora del barco no venía con mucho en términos de programas de utilidad, por lo que necesitamos crear los que necesitamos. ¿Puedo confiar en ti con esto?"
#Usted > "Considéralo hecho".
#Oficial superior> "Excelente".

from datetime import date
print ('Today´s date is')


parsec = 11
lightyears = 0
print(str(parsec) + ' parsec, is' + str(lightyears) + 'lightyears')


from datetime import date
print('Today´s dates is: ' + str(date.today()))

parsec = 11
lightyears = 3.26156 * parsec

print(str(parsec) + 'parsec, is  ' + str(lightyears))
