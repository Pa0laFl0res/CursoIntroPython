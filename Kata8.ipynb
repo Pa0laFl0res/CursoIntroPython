{
 "cells": [
  {
   "cell_type": "markdown",
   "metadata": {},
   "source": [
    "Ejercicio 1"
   ]
  },
  {
   "cell_type": "code",
   "execution_count": 20,
   "metadata": {},
   "outputs": [
    {
     "name": "stdout",
     "output_type": "stream",
     "text": [
      "Venus has 0 moons\n",
      "Venus has a polar circumference of 7853\n"
     ]
    }
   ],
   "source": [
    "venus_name = 'Venus'\n",
    "venus_moons = 0\n",
    "\n",
    "planet = {\n",
    "    'name':'Venus',\n",
    "    'moons': 0\n",
    "}\n",
    "print(f'{planet[\"name\"]} has {planet[\"moons\"]} moons')\n",
    "\n",
    "# Añadimos los datos\n",
    "planet['circumference (km)'] = {\n",
    "    'polar': 7853,\n",
    "    'equatorial': 8338\n",
    "}\n",
    "print(f'{planet[\"name\"]} has a polar circumference of {planet[\"circumference (km)\"][\"polar\"]}')"
   ]
  },
  {
   "cell_type": "code",
   "execution_count": 12,
   "metadata": {},
   "outputs": [
    {
     "name": "stdout",
     "output_type": "stream",
     "text": [
      "planet[\"name\"] has 53 moons\n",
      "saturno has a polar circumference of 79349\n"
     ]
    }
   ],
   "source": [
    "saturno_name = 'Saturno'\n",
    "saturno_moons = 53\n",
    "\n",
    "planet = {\n",
    "    'name':'saturno',\n",
    "    'moons': 53\n",
    "}\n",
    "print(f'planet[\"name\"] has {planet[\"moons\"]} moons')\n",
    "\n",
    "planet['circumference (km)'] = {\n",
    "    'polar':79349,\n",
    "    'equatorial': 83294\n",
    "}\n",
    "print(f'{planet[\"name\"]} has a polar circumference of {planet[\"circumference (km)\"][\"polar\"]}')"
   ]
  },
  {
   "cell_type": "markdown",
   "metadata": {},
   "source": [
    "Ejercicio 2"
   ]
  },
  {
   "cell_type": "code",
   "execution_count": 18,
   "metadata": {},
   "outputs": [
    {
     "name": "stdout",
     "output_type": "stream",
     "text": [
      "Mercury:0 moons\n",
      "Venus:0 moons\n",
      "Earth:1 moons\n",
      "Mars:2 moons\n",
      "Jupiter:79 moons\n",
      "Saturn:3 moons\n",
      "Uranus:27 moons\n",
      "Neptune:14 moons\n",
      "Pluto:5 moons\n",
      "Haumea:2 moons\n",
      "Makemake:1 moons\n",
      "Eris:1 moons\n"
     ]
    }
   ],
   "source": [
    "planets_moons = {\n",
    "    'Mercury':0,\n",
    "    'Venus':0,\n",
    "    'Earth':1,\n",
    "    'Mars':2,\n",
    "    'Jupiter':79,\n",
    "    'Saturn':3,\n",
    "    'Uranus':27,\n",
    "    'Neptune': 14,\n",
    "    'Pluto':5,\n",
    "    'Haumea':2,\n",
    "    'Makemake':1,\n",
    "    'Eris':1 \n",
    "}\n",
    "\n",
    "for key in planets_moons.keys():\n",
    "    print(f'{key}:{planets_moons[key]} moons')"
   ]
  },
  {
   "cell_type": "code",
   "execution_count": 19,
   "metadata": {},
   "outputs": [
    {
     "name": "stdout",
     "output_type": "stream",
     "text": [
      "11.25\n"
     ]
    }
   ],
   "source": [
    "moons  =planets_moons.values()\n",
    "# Hay que obtener la lista de las lunas\n",
    "# Almacenamos los resultados en una variable moons\n",
    "planets = len(planets_moons.keys())\n",
    "\n",
    "total_moons = 0\n",
    "for moon in moons:\n",
    "    total_moons = total_moons + moon\n",
    "    \n",
    "average = total_moons / planets\n",
    "print(average)"
   ]
  }
 ],
 "metadata": {
  "interpreter": {
   "hash": "95d701800b0c9292aa36c5c4448dffa94d93b02a0978590ffacbcb1f0b148b4d"
  },
  "kernelspec": {
   "display_name": "Python 3.10.2 64-bit",
   "language": "python",
   "name": "python3"
  },
  "language_info": {
   "codemirror_mode": {
    "name": "ipython",
    "version": 3
   },
   "file_extension": ".py",
   "mimetype": "text/x-python",
   "name": "python",
   "nbconvert_exporter": "python",
   "pygments_lexer": "ipython3",
   "version": "3.10.2"
  },
  "orig_nbformat": 4
 },
 "nbformat": 4,
 "nbformat_minor": 2
}
