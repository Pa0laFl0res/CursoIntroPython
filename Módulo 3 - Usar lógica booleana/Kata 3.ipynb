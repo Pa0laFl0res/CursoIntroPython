{
 "cells": [
  {
   "cell_type": "markdown",
   "metadata": {},
   "source": [
    "ADVERTENCIA: ASTEROIDE SE ACERCA A LA TIERRA"
   ]
  },
  {
   "cell_type": "markdown",
   "metadata": {},
   "source": [
    "Ejercicio 1"
   ]
  },
  {
   "cell_type": "code",
   "execution_count": 15,
   "metadata": {},
   "outputs": [
    {
     "name": "stdout",
     "output_type": "stream",
     "text": [
      "Mr. Fahrenheit!, it´s traveling at the speed of light!, we must evacute the city!!!\n"
     ]
    }
   ],
   "source": [
    "# Definimos los datos que utilizaremos\n",
    "# Lanzaremos alerta cuando velocidad del asteoride sea mayor a 25km/s\n",
    "asteroide = 49 \n",
    "if asteroide > 25:print('Mr. Fahrenheit!, it´s traveling at the speed of light!, we must evacute the city!!!')\n",
    "else:print('Fake alarm')"
   ]
  },
  {
   "cell_type": "code",
   "execution_count": 3,
   "metadata": {},
   "outputs": [
    {
     "name": "stdout",
     "output_type": "stream",
     "text": [
      "Fake alarm\n"
     ]
    }
   ],
   "source": [
    "asteroide = 14\n",
    "if asteroide > 25:print('Mr. Fahrenheit!, it´s traveling at the speed of light!, we must evacute the city!!!')\n",
    "else:print('Fake alarm')"
   ]
  },
  {
   "cell_type": "markdown",
   "metadata": {},
   "source": [
    "Ejercicio 2"
   ]
  },
  {
   "cell_type": "code",
   "execution_count": 1,
   "metadata": {},
   "outputs": [
    {
     "name": "stdout",
     "output_type": "stream",
     "text": [
      "it´s quiet boring, there is nothing\n"
     ]
    }
   ],
   "source": [
    "\n",
    "# Utilizaremos condiciones \"if\",\"elif\" y \"else\" \n",
    "# Ejecutemos las siguientes instrucciones\n",
    "asteroide = 19\n",
    "if asteroide > 20:print('Look at the sky, there is an asteroide up in the sky')\n",
    "elif asteroide == 20:print('Look at the sky, there is an asteroide up in the sky')\n",
    "else:print('it´s quiet boring, there is nothing')"
   ]
  },
  {
   "cell_type": "code",
   "execution_count": 21,
   "metadata": {},
   "outputs": [
    {
     "name": "stdout",
     "output_type": "stream",
     "text": [
      "Look at the sky, there is an asteroide up in the sky\n"
     ]
    }
   ],
   "source": [
    "asteroide = 26\n",
    "if asteroide > 20:print('Look at the sky, there is an asteroide up in the sky')\n",
    "elif asteroide == 20:print('Look at the sky, there is an asteroide up in the sky')\n",
    "else:print('it´s quiet boring, there is nothing')"
   ]
  },
  {
   "cell_type": "markdown",
   "metadata": {},
   "source": [
    "OR    -     AND\n"
   ]
  },
  {
   "cell_type": "markdown",
   "metadata": {},
   "source": [
    "Ejercicio 3"
   ]
  },
  {
   "cell_type": "code",
   "execution_count": 4,
   "metadata": {},
   "outputs": [
    {
     "name": "stdout",
     "output_type": "stream",
     "text": [
      "It´s dangerous, the asteroide is coming!!!\n"
     ]
    }
   ],
   "source": [
    "# Si una pieza de un asteroide que es más grande que 25 m pero más pequeña que1000m golpeara la Tierra, causaría mucho daño. También discutimos en el ejercicio anterior que:\n",
    "# La velocidad del asteroide varían en función de lo cerca que esté el sol, y cualquier velocidad superior a 25km/s merece una advertencia.\n",
    "# Sin un asteroide entra en la atmósfera de la Tierra a una velocidad mayor o igual a 20km/s, a veces porque un rayo de luz que se puede ver desde la Tierra.\n",
    "\n",
    "velocidad_asteroide = 30\n",
    "tamaño_asteroide = 35\n",
    "if velocidad_asteroide > 23 and tamaño_asteroide > 23:print('It´s dangerous, the asteroide is coming!!!')\n",
    "elif velocidad_asteroide >= 19:print('There´s somenthing up in the sky, it´s brightening the city,take a look')\n",
    "elif tamaño_asteroide <23:print('I did´t see anything, did you?')\n",
    "else:print('I did´t see anything, did you?')\n",
    "\n"
   ]
  },
  {
   "cell_type": "code",
   "execution_count": 3,
   "metadata": {},
   "outputs": [
    {
     "name": "stdout",
     "output_type": "stream",
     "text": [
      "There´s somenthing up in the sky, it´s brightening the city,take a look\n"
     ]
    }
   ],
   "source": [
    "velocidad_asteroide = 30\n",
    "tamaño_asteroide = 20\n",
    "if velocidad_asteroide > 23 and tamaño_asteroide > 23:print('It´s dangerous, the asteroide is coming!!!')\n",
    "elif velocidad_asteroide >= 19:print('There´s somenthing up in the sky, it´s brightening the city,take a look')\n",
    "elif tamaño_asteroide <23:print('I didn´t see anything, did you?')\n",
    "else:print('I did´t see anything, did you?')"
   ]
  },
  {
   "cell_type": "code",
   "execution_count": 2,
   "metadata": {},
   "outputs": [
    {
     "name": "stdout",
     "output_type": "stream",
     "text": [
      "I didn´t see anything, did you?\n"
     ]
    }
   ],
   "source": [
    "velocidad_asteroide = 12\n",
    "tamaño_asteroide = 20\n",
    "if velocidad_asteroide > 23 and tamaño_asteroide > 23:print('It´s dangerous, the asteroide is coming!!!')\n",
    "elif velocidad_asteroide >= 19:print('There´s somenthing up in the sky, it´s brightening the city,take a look')\n",
    "elif tamaño_asteroide <23:print('I didn´t see anything, did you?')\n",
    "else:print('I did´t see anything, did you?')"
   ]
  },
  {
   "cell_type": "code",
   "execution_count": 1,
   "metadata": {},
   "outputs": [
    {
     "name": "stdout",
     "output_type": "stream",
     "text": [
      "There´s somenthing up in the sky, it´s brightening the city,take a look\n"
     ]
    }
   ],
   "source": [
    "velocidad_asteroide = 5\n",
    "tamaño_asteroide = 10\n",
    "if velocidad_asteroide > 20 or tamaño_asteroide > 25 :print('It´s dangerous, the asteroide is coming!!!')\n",
    "elif velocidad_asteroide < 15 or tamaño_asteroide <10:print('There´s somenthing up in the sky, it´s brightening the city,take a look')\n",
    "else:print('I did´t see anything, did you?')"
   ]
  }
 ],
 "metadata": {
  "interpreter": {
   "hash": "95d701800b0c9292aa36c5c4448dffa94d93b02a0978590ffacbcb1f0b148b4d"
  },
  "kernelspec": {
   "display_name": "Python 3.10.2 64-bit",
   "language": "python",
   "name": "python3"
  },
  "language_info": {
   "codemirror_mode": {
    "name": "ipython",
    "version": 3
   },
   "file_extension": ".py",
   "mimetype": "text/x-python",
   "name": "python",
   "nbconvert_exporter": "python",
   "pygments_lexer": "ipython3",
   "version": "3.10.2"
  },
  "orig_nbformat": 4
 },
 "nbformat": 4,
 "nbformat_minor": 2
}
