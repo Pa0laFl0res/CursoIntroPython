{
 "cells": [
  {
   "cell_type": "markdown",
   "metadata": {},
   "source": [
    "CREAR Y USAR LISTAS DE PYTHON"
   ]
  },
  {
   "cell_type": "markdown",
   "metadata": {},
   "source": [
    "Ejercicio 1"
   ]
  },
  {
   "cell_type": "code",
   "execution_count": 4,
   "metadata": {},
   "outputs": [
    {
     "name": "stdout",
     "output_type": "stream",
     "text": [
      "['Mercury', 'Venus', 'Earth', 'Mars', 'Jupiter', 'Saturn', 'Uranus', 'Neptune', 'Pluto']\n"
     ]
    }
   ],
   "source": [
    "# Realicemos una lista de los planetas\n",
    "Planets = ['Mercury','Venus','Earth','Mars','Jupiter','Saturn','Uranus','Neptune']\n",
    "# Agregamos a Pluto\n",
    "Planets.append('Pluto')\n",
    "print(Planets)"
   ]
  },
  {
   "cell_type": "code",
   "execution_count": 5,
   "metadata": {},
   "outputs": [
    {
     "name": "stdout",
     "output_type": "stream",
     "text": [
      "there are 8 Planets\n"
     ]
    }
   ],
   "source": [
    "# ¿Cuántos planetas son?\n",
    "Planets = ['Mercury','Venus','Earth','Mars','Jupiter','Saturn','Uranus','Neptune']\n",
    "print('there are',len(Planets),'Planets')"
   ]
  },
  {
   "cell_type": "code",
   "execution_count": 1,
   "metadata": {},
   "outputs": [
    {
     "name": "stdout",
     "output_type": "stream",
     "text": [
      "Pluto is the last planet\n"
     ]
    }
   ],
   "source": [
    "Planets = ['Mercury','Venus','Earth','Mars','Jupiter','Saturn','Uranus','Neptune']\n",
    "# Agregamos a Pluto y lo devolvemos como último elemento de la lista, indicando que 'is the last planet'\n",
    "Planets.append('Pluto')\n",
    "print(Planets[-1],'is the last planet')"
   ]
  },
  {
   "cell_type": "markdown",
   "metadata": {},
   "source": [
    "TRABAJANDO CON DATOS DE UNA LISTA"
   ]
  },
  {
   "cell_type": "markdown",
   "metadata": {},
   "source": [
    "Ejercicio 2"
   ]
  },
  {
   "cell_type": "code",
   "execution_count": 20,
   "metadata": {},
   "outputs": [
    {
     "name": "stdout",
     "output_type": "stream",
     "text": [
      "There are planets closer than Earth\n",
      "['Mercury', 'Venus']\n",
      "Here are planets further than Earth\n",
      "['Mars', 'Jupiter', 'Saturn', 'Uranus', 'Neptune']\n"
     ]
    }
   ],
   "source": [
    "Planets = ['Mercury','Venus','Earth','Mars','Jupiter','Saturn','Uranus','Neptune']\n",
    "user_planet = input('Please enter the name of the planet(with a capital letter to start)')\n",
    "\n",
    "planet_index = Planets.index(user_planet)\n",
    "\n",
    "print('There are planets closer than ' + user_planet)\n",
    "print(Planets[0:planet_index])\n",
    "\n",
    "print('Here are planets further than ' + user_planet)\n",
    "print(Planets[planet_index + 1:])"
   ]
  },
  {
   "cell_type": "code",
   "execution_count": 2,
   "metadata": {},
   "outputs": [
    {
     "name": "stdout",
     "output_type": "stream",
     "text": [
      "There are planets closer than Saturn\n",
      "['Mercury', 'Venus', 'Earth', 'Mars', 'Jupiter']\n",
      "Here are planets further than Saturn\n",
      "['Uranus', 'Neptune']\n"
     ]
    }
   ],
   "source": [
    "Planets = ['Mercury','Venus','Earth','Mars','Jupiter','Saturn','Uranus','Neptune']\n",
    "user_planet = input('Please enter the name of the planet(with a capital letter to start)')\n",
    "\n",
    "planet_index = Planets.index(user_planet)\n",
    "\n",
    "print('There are planets closer than ' + user_planet)\n",
    "print(Planets[0:planet_index])\n",
    "\n",
    "print('Here are planets further than ' + user_planet)\n",
    "print(Planets[planet_index + 1:])"
   ]
  }
 ],
 "metadata": {
  "interpreter": {
   "hash": "95d701800b0c9292aa36c5c4448dffa94d93b02a0978590ffacbcb1f0b148b4d"
  },
  "kernelspec": {
   "display_name": "Python 3.10.2 64-bit",
   "language": "python",
   "name": "python3"
  },
  "language_info": {
   "codemirror_mode": {
    "name": "ipython",
    "version": 3
   },
   "file_extension": ".py",
   "mimetype": "text/x-python",
   "name": "python",
   "nbconvert_exporter": "python",
   "pygments_lexer": "ipython3",
   "version": "3.10.2"
  },
  "orig_nbformat": 4
 },
 "nbformat": 4,
 "nbformat_minor": 2
}
