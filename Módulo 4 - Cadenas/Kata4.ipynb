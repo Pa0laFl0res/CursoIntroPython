{
 "cells": [
  {
   "cell_type": "markdown",
   "metadata": {},
   "source": [
    "Primera forma de separar texto"
   ]
  },
  {
   "cell_type": "code",
   "execution_count": 1,
   "metadata": {},
   "outputs": [
    {
     "name": "stdout",
     "output_type": "stream",
     "text": [
      "['Interestin', 'g facts', 'about the', 'Moon. The', 'Moon is', 'Earth´s', 'only', 'satellite.', 'There are', 'several in', 'teresting', 'facts', 'about the', 'Moon and', 'how it', 'affects.', 'On', 'average,', 'the Moon', 'moves 4cm', 'away from', 'the Earth', 'every', 'year.', 'This', 'yearly', 'drift is', 'not signif', 'icant', 'enough to', 'cause', 'inmediate', 'effects on', 'Earth. The', 'highest', 'day'] 30\n"
     ]
    }
   ],
   "source": [
    "# Divide el texto - 1° forma\n",
    "import textwrap\n",
    "a11 = \"\"\"Interesting facts about the Moon.\n",
    "The Moon is Earth´s only satellite.\n",
    "There are several interesting facts about the Moon and how it affects.\n",
    "On average, the Moon moves 4cm away from the Earth every year. \n",
    "This yearly drift is not significant enough to cause inmediate effects on Earth.\n",
    "The highest day\"\"\"\n",
    "a11= textwrap.wrap(a11,10)\n",
    "print(a11,30)"
   ]
  },
  {
   "cell_type": "markdown",
   "metadata": {},
   "source": [
    "Segunda forma de dividir texto"
   ]
  },
  {
   "cell_type": "code",
   "execution_count": 6,
   "metadata": {},
   "outputs": [
    {
     "name": "stdout",
     "output_type": "stream",
     "text": [
      "['Interesting', 'facts', 'about', 'the', 'Moon']\n",
      "['The', 'Moon', 'is', 'Earth´s', 'only', 'satellite.']\n",
      "['There', 'are', 'several', 'interesting', 'facts', 'about', 'the', 'Moon', 'and', 'how', 'it', 'affects.']\n",
      "['On', 'average,', 'the', 'Moon', 'moves', '4cm', 'away', 'from', 'the', 'Earth', 'every', 'year.']\n",
      "['This', 'yearly', 'drift', 'is', 'not', 'significant', 'enough', 'to', 'cause', 'inmediate', 'effects', 'on', 'Earth.']\n",
      "['The', 'highest', 'day']\n"
     ]
    }
   ],
   "source": [
    "# Divide el texto - 2° forma\n",
    "text_parts = \"\"\"Interesting facts about the Moon\"\"\"\n",
    "print(text_parts.split(' '))\n",
    "text_parts1 = \"\"\"The Moon is Earth´s only satellite.\"\"\"\n",
    "print(text_parts1.split(' '))\n",
    "text_parts2 = \"\"\"There are several interesting facts about the Moon and how it affects.\"\"\" \n",
    "print(text_parts2.split(' '))\n",
    "text_parts3 = \"\"\"On average, the Moon moves 4cm away from the Earth every year.\"\"\"\n",
    "print(text_parts3.split(' '))\n",
    "text_parts4 = \"\"\"This yearly drift is not significant enough to cause inmediate effects on Earth.\"\"\"\n",
    "print(text_parts4.split(' '))\n",
    "text_parts5 = \"\"\"The highest day\"\"\"\n",
    "print(text_parts5.split(' '))\n"
   ]
  },
  {
   "cell_type": "markdown",
   "metadata": {},
   "source": [
    "Palabras clave"
   ]
  },
  {
   "cell_type": "code",
   "execution_count": 5,
   "metadata": {},
   "outputs": [
    {
     "name": "stdout",
     "output_type": "stream",
     "text": [
      "On average, the Moon moves 4cm away from the Earth every year.\n",
      "On average, the Moon moves 4cm away from the Earth every year.\n"
     ]
    }
   ],
   "source": [
    "# Palabras clave \n",
    "key_words = [\"average\",\"temperature\",\"distance\"]\n",
    "text_parts = [\"On average, the Moon moves 4cm away from the Earth every year.\"]\n",
    "              \n",
    "#Ciclo for para recorrer la cadena\n",
    "for sentence in text_parts:\n",
    "    for key_word in key_words:\n",
    "        if key_word in sentence:\n",
    "            print(sentence)\n",
    "            break\n",
    "\n",
    "#ciclo para cambiar C a Celsius\n",
    "for sentence in text_parts:\n",
    "    for key_word in key_words:\n",
    "        if key_word in sentence:\n",
    "            print(sentence)\n",
    "            break"
   ]
  },
  {
   "cell_type": "code",
   "execution_count": 6,
   "metadata": {},
   "outputs": [
    {
     "name": "stdout",
     "output_type": "stream",
     "text": [
      "datos de gravedad sobre Ganímedes\n",
      "--------------------------------------------------------------------------------\n",
      "Nombre del planeta: Marte\n",
      "Gravedad en 0.00143:1.4300000000000002 m/s2\n",
      "--------------------------------------------------------------------------------\n",
      "Nombre del planeta: Marte\n",
      "Gravedad en 0.00143:1.4300000000000002 m/s2\n",
      "--------------------------------------------------------------------------------\n",
      "Nombre del planeta: Marte\n",
      "Gravedad en 0.00143:1.4300000000000002 m/s2\n",
      " \n",
      "Datos de Garvedad sobre:Ganímedes\n",
      "---------------------------------------\n",
      "Nombre del planeta: Marte\n",
      "Gravedad en Ganímedes:0.00143 m/s2\n",
      "\n",
      " \n",
      "Datos de Garvedad sobre:Ganímedes\n",
      "---------------------------------------\n",
      "Nombre del planeta: Marte\n",
      "Gravedad en Ganímedes:1.4300000000000002 m/s2\n",
      "\n"
     ]
    }
   ],
   "source": [
    "# Datos con los que vamos a trabajar\n",
    "planeta = 'Marte'\n",
    "gravedad = 0.00143\n",
    "nombre = 'Ganímedes'\n",
    "\n",
    "# Creamos el título\n",
    "title = f'datos de gravedad sobre {nombre}'\n",
    "print(title)\n",
    "# Creamos la plantilla\n",
    "hechos = f\"\"\"{'-' * 80}\n",
    "Nombre del planeta: {planeta}\n",
    "Gravedad en {gravedad}:{gravedad * 1000} m/s2\"\"\"\n",
    "print(hechos)\n",
    "\n",
    "# Unión de ambas cadenas\n",
    "template = f\"\"\"{title.title()}{hechos}\"\"\"\n",
    "print(hechos)\n",
    "\n",
    "# Nuevos datos muestra\n",
    "planeta = 'Marte'\n",
    "gravedad = 0.00143\n",
    "nombre = 'Ganímedes'\n",
    "\n",
    "# Comprobamos la plantilla\n",
    "print(hechos)\n",
    "\n",
    "new_template = \"\"\" \n",
    "Datos de Garvedad sobre:{nombre}\n",
    "---------------------------------------\n",
    "Nombre del planeta: {planeta}\n",
    "Gravedad en {nombre}:{gravedad} m/s2\n",
    "\"\"\"\n",
    "print(new_template.format(nombre = nombre,planeta = planeta,gravedad = gravedad))\n",
    "\n",
    "# Pista:print(nueva_plantilla.format(variables))\n",
    "print(new_template.format(nombre = nombre, planeta = planeta, gravedad = gravedad * 1000))\n"
   ]
  }
 ],
 "metadata": {
  "interpreter": {
   "hash": "95d701800b0c9292aa36c5c4448dffa94d93b02a0978590ffacbcb1f0b148b4d"
  },
  "kernelspec": {
   "display_name": "Python 3.10.2 64-bit",
   "language": "python",
   "name": "python3"
  },
  "language_info": {
   "codemirror_mode": {
    "name": "ipython",
    "version": 3
   },
   "file_extension": ".py",
   "mimetype": "text/x-python",
   "name": "python",
   "nbconvert_exporter": "python",
   "pygments_lexer": "ipython3",
   "version": "3.10.2"
  },
  "orig_nbformat": 4
 },
 "nbformat": 4,
 "nbformat_minor": 2
}
